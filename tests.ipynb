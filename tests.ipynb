{
 "cells": [
  {
   "cell_type": "code",
   "execution_count": 1,
   "metadata": {},
   "outputs": [],
   "source": [
    "import cv2\n",
    "from ocv_shirt.MarkerDetector import MarkerDetector\n",
    "marker_detect = MarkerDetector()\n",
    "img = cv2.imread(\"a.jpg\")\n",
    "markers = {0:1, 1:2, 2:2, 3:1}\n",
    "markers_positions = {2:1, 3:2, 0:3, 1:0}\n",
    "\n",
    "marker_detect.set_points(markers, markers_positions)\n",
    "\n",
    "marker_detect.auto_adjust_params(img, [0,1,2,3])"
   ]
  },
  {
   "cell_type": "code",
   "execution_count": 2,
   "metadata": {},
   "outputs": [],
   "source": [
    "from ocv_shirt.PerspectiveCorrector import PerspectiveCorrector\n",
    "\n",
    "perspective_corrector = PerspectiveCorrector((900, 1500), 1)\n",
    "\n",
    "box = marker_detect.analyze_image(img)\n",
    "\n",
    "corrected =  perspective_corrector.process_frame(img, box)"
   ]
  },
  {
   "cell_type": "code",
   "execution_count": 3,
   "metadata": {},
   "outputs": [],
   "source": [
    "from ocv_shirt.ClothingMarker import ClothingMarker\n",
    "\n",
    "cloth_marker = ClothingMarker()\n",
    "\n",
    "export = cloth_marker.analyze_image(corrected)"
   ]
  },
  {
   "cell_type": "code",
   "execution_count": 4,
   "metadata": {},
   "outputs": [],
   "source": [
    "edges,threshold, img = export.edges, export.thresh, export.img"
   ]
  },
  {
   "cell_type": "code",
   "execution_count": 5,
   "metadata": {},
   "outputs": [],
   "source": [
    "import math\n",
    "import numpy as np\n",
    "def line_to_a(line: tuple[tuple[float, float], tuple[float, float]]) -> float | None:\n",
    "    x1,y1,x2,y2 = tuple(np.array(line).reshape())\n",
    "    if x2 != x1:\n",
    "        return (y2-y1)/(x2-x1)\n",
    "    return None\n",
    "\n",
    "def a_to_deg(a: float) -> float:\n",
    "    return math.degrees(math.atan(a))\n",
    "\n",
    "# \n"
   ]
  }
 ],
 "metadata": {
  "kernelspec": {
   "display_name": "opencv",
   "language": "python",
   "name": "python3"
  },
  "language_info": {
   "codemirror_mode": {
    "name": "ipython",
    "version": 3
   },
   "file_extension": ".py",
   "mimetype": "text/x-python",
   "name": "python",
   "nbconvert_exporter": "python",
   "pygments_lexer": "ipython3",
   "version": "3.11.4"
  },
  "orig_nbformat": 4
 },
 "nbformat": 4,
 "nbformat_minor": 2
}
